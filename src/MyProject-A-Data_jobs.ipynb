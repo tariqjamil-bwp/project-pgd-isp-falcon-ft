{
 "cells": [
  {
   "cell_type": "markdown",
   "metadata": {
    "id": "B4tlkGBMRIIh"
   },
   "source": [
    "## Data Acquisition, Processong and making Dataset"
   ]
  },
  {
   "cell_type": "markdown",
   "metadata": {
    "id": "TfBzP8gWzkpv"
   },
   "source": [
    "## Install requirements\n",
    "\n",
    "First, run the cells below to install the requirements:"
   ]
  },
  {
   "cell_type": "code",
   "execution_count": null,
   "metadata": {
    "id": "otj46qRbtpnd"
   },
   "outputs": [],
   "source": [
    "!pip install -q datasets"
   ]
  },
  {
   "cell_type": "markdown",
   "metadata": {
    "id": "kulAjt0lWzUv"
   },
   "source": [
    "## Importing Packages"
   ]
  },
  {
   "cell_type": "code",
   "execution_count": null,
   "metadata": {
    "id": "NrYnr0WFWzUw"
   },
   "outputs": [],
   "source": [
    "#added\n",
    "import json\n",
    "from pprint import pprint\n",
    "import pandas as pd"
   ]
  },
  {
   "cell_type": "code",
   "execution_count": null,
   "metadata": {
    "id": "kLHDq3gihhJ6"
   },
   "outputs": [],
   "source": [
    "# set some pandas options to make the output more readable\n",
    "pd.set_option(\"display.max_rows\", 500)\n",
    "pd.set_option(\"display.max_columns\", 500)\n",
    "pd.set_option(\"display.width\", 1000)"
   ]
  },
  {
   "cell_type": "markdown",
   "metadata": {
    "id": "FOtwYRI3zzXI"
   },
   "source": [
    "## Google Drive mount for Data sets Loading"
   ]
  },
  {
   "cell_type": "code",
   "execution_count": null,
   "metadata": {
    "colab": {
     "base_uri": "https://localhost:8080/"
    },
    "executionInfo": {
     "elapsed": 3992,
     "status": "ok",
     "timestamp": 1689951575338,
     "user": {
      "displayName": "Tariq Jamil",
      "userId": "14932491825632509938"
     },
     "user_tz": -300
    },
    "id": "1rvb_IqLrmRo",
    "outputId": "9ed88075-32d2-4e46-9708-3c17a87c2385"
   },
   "outputs": [
    {
     "name": "stdout",
     "output_type": "stream",
     "text": [
      "Drive already mounted at /content/drive; to attempt to forcibly remount, call drive.mount(\"/content/drive\", force_remount=True).\n"
     ]
    }
   ],
   "source": [
    "from google.colab import drive\n",
    "drive.mount('/content/drive')"
   ]
  },
  {
   "cell_type": "code",
   "execution_count": null,
   "metadata": {
    "colab": {
     "base_uri": "https://localhost:8080/"
    },
    "executionInfo": {
     "elapsed": 24,
     "status": "ok",
     "timestamp": 1689951575338,
     "user": {
      "displayName": "Tariq Jamil",
      "userId": "14932491825632509938"
     },
     "user_tz": -300
    },
    "id": "s5lmlkwnu0av",
    "outputId": "ccb5edcd-6745-4987-b39e-e49e32387f41"
   },
   "outputs": [
    {
     "data": {
      "text/plain": [
       "{'question': 'What is capital of Pakistan',\n",
       " 'answer': 'Islamabad is the Capital of Pakistan'}"
      ]
     },
     "execution_count": 48,
     "metadata": {},
     "output_type": "execute_result"
    }
   ],
   "source": [
    "#ALL THE DATA WILL BE COLLATED IN JSON FORMAT as\n",
    "{'question': 'What is capital of Pakistan',\n",
    " 'answer': 'Islamabad is the Capital of Pakistan'\n",
    "}"
   ]
  },
  {
   "cell_type": "markdown",
   "metadata": {
    "id": "y4v3QSmtWzUz"
   },
   "source": [
    "### 1. Loading Pak-History + NED  csv data file"
   ]
  },
  {
   "cell_type": "code",
   "execution_count": null,
   "metadata": {
    "id": "Xiu2KK4CKsyI"
   },
   "outputs": [],
   "source": [
    "import json\n",
    "with open('/content/drive/MyDrive/ISP/data/qa_pak.json') as json_files:\n",
    "    qa_pak = json.load(json_files)"
   ]
  },
  {
   "cell_type": "code",
   "execution_count": null,
   "metadata": {
    "colab": {
     "base_uri": "https://localhost:8080/"
    },
    "executionInfo": {
     "elapsed": 15,
     "status": "ok",
     "timestamp": 1689951575339,
     "user": {
      "displayName": "Tariq Jamil",
      "userId": "14932491825632509938"
     },
     "user_tz": -300
    },
    "id": "oJjteXSo4YjU",
    "outputId": "203ab27c-8b19-4f4e-da55-7efc7593c274"
   },
   "outputs": [
    {
     "data": {
      "text/plain": [
       "{'question': 'Who is known as the founder of Pakistan?',\n",
       " 'answer': 'Muhammad Ali Jinnah is known as the founder of Pakistan.'}"
      ]
     },
     "execution_count": 50,
     "metadata": {},
     "output_type": "execute_result"
    }
   ],
   "source": [
    "qa_pak[0]"
   ]
  },
  {
   "cell_type": "markdown",
   "metadata": {
    "id": "vGnEArp_WzUy"
   },
   "source": [
    "### 2. Loading E-Commerece FAQ json file."
   ]
  },
  {
   "cell_type": "markdown",
   "metadata": {
    "id": "qNkOvH6aWzUy"
   },
   "source": [
    "https://www.kaggle.com/datasets/saadmakhdoom/ecommerce-faq-chatbot-dataset"
   ]
  },
  {
   "cell_type": "code",
   "execution_count": null,
   "metadata": {
    "id": "5kjiZtl85_hF"
   },
   "outputs": [],
   "source": [
    "import json\n",
    "with open('/content/drive/MyDrive/ISP/data/Ecommerce_FAQ_Chatbot_dataset.json') as json_files:\n",
    "    qa_ecomm = json.load(json_files)\n"
   ]
  },
  {
   "cell_type": "code",
   "execution_count": null,
   "metadata": {
    "colab": {
     "base_uri": "https://localhost:8080/"
    },
    "executionInfo": {
     "elapsed": 12,
     "status": "ok",
     "timestamp": 1689951575339,
     "user": {
      "displayName": "Tariq Jamil",
      "userId": "14932491825632509938"
     },
     "user_tz": -300
    },
    "id": "_SVW-nIStAHp",
    "outputId": "42ab0177-01d2-4b16-e436-e6e46db10867"
   },
   "outputs": [
    {
     "name": "stdout",
     "output_type": "stream",
     "text": [
      "{'question': 'How can I create an account?',\n",
      " 'answer': \"To create an account, click on the 'Sign Up' button on the top \"\n",
      "           'right corner of our website and follow the instructions to '\n",
      "           'complete the registration process.'}\n"
     ]
    }
   ],
   "source": [
    "pprint(qa_ecomm['questions'][0], sort_dicts=False)"
   ]
  },
  {
   "cell_type": "markdown",
   "metadata": {
    "id": "1bL3EUOhWzU1"
   },
   "source": [
    "## Combining all Datasets"
   ]
  },
  {
   "cell_type": "code",
   "execution_count": null,
   "metadata": {
    "colab": {
     "base_uri": "https://localhost:8080/"
    },
    "executionInfo": {
     "elapsed": 12,
     "status": "ok",
     "timestamp": 1689951575340,
     "user": {
      "displayName": "Tariq Jamil",
      "userId": "14932491825632509938"
     },
     "user_tz": -300
    },
    "id": "Sy8z2HsBWzU1",
    "outputId": "969b3d96-bb8f-4e97-8418-49bf695aac76"
   },
   "outputs": [
    {
     "data": {
      "text/plain": [
       "174"
      ]
     },
     "execution_count": 53,
     "metadata": {},
     "output_type": "execute_result"
    }
   ],
   "source": [
    "combined_qa = qa_pak + qa_ecomm['questions']\n",
    "\n",
    "len(combined_qa)"
   ]
  },
  {
   "cell_type": "code",
   "execution_count": null,
   "metadata": {
    "colab": {
     "base_uri": "https://localhost:8080/"
    },
    "executionInfo": {
     "elapsed": 11,
     "status": "ok",
     "timestamp": 1689951575340,
     "user": {
      "displayName": "Tariq Jamil",
      "userId": "14932491825632509938"
     },
     "user_tz": -300
    },
    "id": "Mj3sspfRvIbp",
    "outputId": "59a3d2ac-8ba3-4f8d-9f63-ff19c4b6d252"
   },
   "outputs": [
    {
     "data": {
      "text/plain": [
       "{'question': 'Who is known as the founder of Pakistan?',\n",
       " 'answer': 'Muhammad Ali Jinnah is known as the founder of Pakistan.'}"
      ]
     },
     "execution_count": 54,
     "metadata": {},
     "output_type": "execute_result"
    }
   ],
   "source": [
    "combined_qa[0]"
   ]
  },
  {
   "cell_type": "code",
   "execution_count": null,
   "metadata": {
    "id": "MLwYYUyDSaC4"
   },
   "outputs": [],
   "source": [
    "json_file_path = '/content/drive/MyDrive/ISP/data/final_qa.json'\n",
    "with open(json_file_path, 'w') as fh:\n",
    "    json.dump(combined_qa, fh)"
   ]
  },
  {
   "cell_type": "code",
   "execution_count": null,
   "metadata": {
    "colab": {
     "base_uri": "https://localhost:8080/"
    },
    "executionInfo": {
     "elapsed": 10,
     "status": "ok",
     "timestamp": 1689951575340,
     "user": {
      "displayName": "Tariq Jamil",
      "userId": "14932491825632509938"
     },
     "user_tz": -300
    },
    "id": "JelTkQDjS-xG",
    "outputId": "26115a81-6f77-4440-dcce-4a4c8f944b36"
   },
   "outputs": [
    {
     "data": {
      "text/plain": [
       "174"
      ]
     },
     "execution_count": 56,
     "metadata": {},
     "output_type": "execute_result"
    }
   ],
   "source": [
    "len(combined_qa)"
   ]
  },
  {
   "cell_type": "markdown",
   "metadata": {
    "id": "dgirKtLoWzU2"
   },
   "source": [
    "### Train-Test Split and Saving Dataset as json file"
   ]
  },
  {
   "cell_type": "code",
   "execution_count": null,
   "metadata": {
    "id": "-akZ_a540I51"
   },
   "outputs": [],
   "source": [
    "#%%script true\n",
    "from sklearn.model_selection import train_test_split\n",
    "\n",
    "# Splitting the data\n",
    "final_qa_train, final_qa_eval = train_test_split(combined_qa, test_size=0.20, random_state=42)"
   ]
  },
  {
   "cell_type": "code",
   "execution_count": null,
   "metadata": {
    "id": "KBCDL-LL7CAD"
   },
   "outputs": [],
   "source": [
    "#%%script true\n",
    "json_file_train_path = '/content/drive/MyDrive/ISP/data/final_qa2_train.json'\n",
    "with open(json_file_train_path, 'w') as fh:\n",
    "    json.dump(final_qa_train, fh)"
   ]
  },
  {
   "cell_type": "code",
   "execution_count": null,
   "metadata": {
    "id": "-SwROGa4VxXz"
   },
   "outputs": [],
   "source": [
    "#%%script true\n",
    "json_file_eval_path = '/content/drive/MyDrive/ISP/data/final_qa2_eval.json'\n",
    "with open(json_file_eval_path, 'w') as fh:\n",
    "    json.dump(final_qa_eval, fh)"
   ]
  },
  {
   "cell_type": "code",
   "execution_count": null,
   "metadata": {
    "colab": {
     "base_uri": "https://localhost:8080/"
    },
    "executionInfo": {
     "elapsed": 9,
     "status": "ok",
     "timestamp": 1689951575341,
     "user": {
      "displayName": "Tariq Jamil",
      "userId": "14932491825632509938"
     },
     "user_tz": -300
    },
    "id": "-DSGOdH5Ds2b",
    "outputId": "e6b966a2-11c4-4a06-efa4-4657b9dd8d48"
   },
   "outputs": [
    {
     "name": "stdout",
     "output_type": "stream",
     "text": [
      "139 35\n"
     ]
    }
   ],
   "source": [
    "#%%script true\n",
    "print(len(final_qa_train), len(final_qa_eval))"
   ]
  },
  {
   "cell_type": "code",
   "execution_count": null,
   "metadata": {
    "id": "QbpVW9MG850H"
   },
   "outputs": [],
   "source": []
  }
 ],
 "metadata": {
  "colab": {
   "collapsed_sections": [
    "TfBzP8gWzkpv"
   ],
   "gpuType": "T4",
   "machine_shape": "hm",
   "provenance": []
  },
  "kernelspec": {
   "display_name": "Python 3 (ipykernel)",
   "language": "python",
   "name": "python3"
  },
  "language_info": {
   "codemirror_mode": {
    "name": "ipython",
    "version": 3
   },
   "file_extension": ".py",
   "mimetype": "text/x-python",
   "name": "python",
   "nbconvert_exporter": "python",
   "pygments_lexer": "ipython3",
   "version": "3.8.17"
  },
  "vscode": {
   "interpreter": {
    "hash": "6c4e21ff5edce2fb2cfe7eb854551da92c6ec05cac2504057bb7aba62f43a5ec"
   }
  },
  "widgets": {
   "application/vnd.jupyter.widget-state+json": {
    "state": {},
    "version_major": 2,
    "version_minor": 0
   }
  }
 },
 "nbformat": 4,
 "nbformat_minor": 4
}
