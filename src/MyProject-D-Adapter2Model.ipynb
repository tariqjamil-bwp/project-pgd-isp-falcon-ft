{
 "cells": [
  {
   "cell_type": "markdown",
   "metadata": {
    "id": "WE5GJ6s7y0Xo"
   },
   "source": [
    "## Merging Fine-tuned LoRa Adaptor with parent pretrained model"
   ]
  },
  {
   "cell_type": "markdown",
   "metadata": {
    "id": "TfBzP8gWzkpv"
   },
   "source": [
    "### Install requirements\n",
    "\n",
    "First, run the cells below to install the requirements:"
   ]
  },
  {
   "cell_type": "code",
   "execution_count": 1,
   "metadata": {
    "colab": {
     "base_uri": "https://localhost:8080/"
    },
    "executionInfo": {
     "elapsed": 47084,
     "status": "ok",
     "timestamp": 1690036206678,
     "user": {
      "displayName": "Tariq Jamil",
      "userId": "14932491825632509938"
     },
     "user_tz": -300
    },
    "id": "PjjTrLepupCm",
    "outputId": "75dac563-4d80-4f03-f1f6-19b684522894"
   },
   "outputs": [
    {
     "name": "stdout",
     "output_type": "stream",
     "text": [
      "\u001b[2K     \u001b[90m━━━━━━━━━━━━━━━━━━━━━━━━━━━━━━━━━━━━━━━━\u001b[0m \u001b[32m92.5/92.5 MB\u001b[0m \u001b[31m10.3 MB/s\u001b[0m eta \u001b[36m0:00:00\u001b[0m\n",
      "\u001b[2K     \u001b[90m━━━━━━━━━━━━━━━━━━━━━━━━━━━━━━━━━━━━━━\u001b[0m \u001b[32m486.2/486.2 kB\u001b[0m \u001b[31m39.8 MB/s\u001b[0m eta \u001b[36m0:00:00\u001b[0m\n",
      "\u001b[2K     \u001b[90m━━━━━━━━━━━━━━━━━━━━━━━━━━━━━━━━━━━━━━\u001b[0m \u001b[32m244.2/244.2 kB\u001b[0m \u001b[31m23.7 MB/s\u001b[0m eta \u001b[36m0:00:00\u001b[0m\n",
      "\u001b[2K     \u001b[90m━━━━━━━━━━━━━━━━━━━━━━━━━━━━━━━━━━━━━━━━\u001b[0m \u001b[32m42.2/42.2 kB\u001b[0m \u001b[31m1.8 MB/s\u001b[0m eta \u001b[36m0:00:00\u001b[0m\n",
      "\u001b[2K     \u001b[90m━━━━━━━━━━━━━━━━━━━━━━━━━━━━━━━━━━━━━━━\u001b[0m \u001b[32m110.5/110.5 kB\u001b[0m \u001b[31m6.3 MB/s\u001b[0m eta \u001b[36m0:00:00\u001b[0m\n",
      "\u001b[2K     \u001b[90m━━━━━━━━━━━━━━━━━━━━━━━━━━━━━━━━━━━━━━\u001b[0m \u001b[32m212.5/212.5 kB\u001b[0m \u001b[31m19.1 MB/s\u001b[0m eta \u001b[36m0:00:00\u001b[0m\n",
      "\u001b[2K     \u001b[90m━━━━━━━━━━━━━━━━━━━━━━━━━━━━━━━━━━━━━━\u001b[0m \u001b[32m134.3/134.3 kB\u001b[0m \u001b[31m15.0 MB/s\u001b[0m eta \u001b[36m0:00:00\u001b[0m\n",
      "\u001b[2K     \u001b[90m━━━━━━━━━━━━━━━━━━━━━━━━━━━━━━━━━━━━━━\u001b[0m \u001b[32m268.8/268.8 kB\u001b[0m \u001b[31m26.8 MB/s\u001b[0m eta \u001b[36m0:00:00\u001b[0m\n",
      "\u001b[?25h  Installing build dependencies ... \u001b[?25l\u001b[?25hdone\n",
      "  Getting requirements to build wheel ... \u001b[?25l\u001b[?25hdone\n",
      "  Preparing metadata (pyproject.toml) ... \u001b[?25l\u001b[?25hdone\n",
      "  Installing build dependencies ... \u001b[?25l\u001b[?25hdone\n",
      "  Getting requirements to build wheel ... \u001b[?25l\u001b[?25hdone\n",
      "  Preparing metadata (pyproject.toml) ... \u001b[?25l\u001b[?25hdone\n",
      "\u001b[2K     \u001b[90m━━━━━━━━━━━━━━━━━━━━━━━━━━━━━━━━━━━━━━━━\u001b[0m \u001b[32m7.8/7.8 MB\u001b[0m \u001b[31m60.0 MB/s\u001b[0m eta \u001b[36m0:00:00\u001b[0m\n",
      "\u001b[2K     \u001b[90m━━━━━━━━━━━━━━━━━━━━━━━━━━━━━━━━━━━━━━━━\u001b[0m \u001b[32m1.3/1.3 MB\u001b[0m \u001b[31m67.0 MB/s\u001b[0m eta \u001b[36m0:00:00\u001b[0m\n",
      "\u001b[?25h  Building wheel for transformers (pyproject.toml) ... \u001b[?25l\u001b[?25hdone\n",
      "  Building wheel for peft (pyproject.toml) ... \u001b[?25l\u001b[?25hdone\n"
     ]
    }
   ],
   "source": [
    "!pip install -q bitsandbytes datasets accelerate loralib einops\n",
    "!pip install -q git+https://github.com/huggingface/transformers.git@main git+https://github.com/huggingface/peft.git"
   ]
  },
  {
   "cell_type": "markdown",
   "metadata": {
    "id": "kulAjt0lWzUv"
   },
   "source": [
    "## Importing Packages"
   ]
  },
  {
   "cell_type": "code",
   "execution_count": 2,
   "metadata": {
    "executionInfo": {
     "elapsed": 10143,
     "status": "ok",
     "timestamp": 1690036216816,
     "user": {
      "displayName": "Tariq Jamil",
      "userId": "14932491825632509938"
     },
     "user_tz": -300
    },
    "id": "koRYhzEOSyb0"
   },
   "outputs": [],
   "source": [
    "import torch\n",
    "from transformers import AutoTokenizer, AutoModelForCausalLM, BitsAndBytesConfig\n",
    "from peft import PeftConfig, PeftModel"
   ]
  },
  {
   "cell_type": "markdown",
   "metadata": {
    "id": "HjV7-v11WzU3"
   },
   "source": [
    "## Loading Pre-trained Model & Tokenizer from HF repositoiry"
   ]
  },
  {
   "cell_type": "code",
   "execution_count": 3,
   "metadata": {
    "executionInfo": {
     "elapsed": 24,
     "status": "ok",
     "timestamp": 1690036216816,
     "user": {
      "displayName": "Tariq Jamil",
      "userId": "14932491825632509938"
     },
     "user_tz": -300
    },
    "id": "H0SEnnEHOx1y"
   },
   "outputs": [],
   "source": [
    "%%script true\n",
    "BASE_MODEL_NAME = \"tiiuae/falcon-7b\"\n",
    "\n",
    "base_model = AutoModelForCausalLM.from_pretrained(\n",
    "    BASE_MODEL_NAME,\n",
    "    return_dict=True,\n",
    "    device_map='auto',\n",
    "    trust_remote_code=True,\n",
    "    load_in_4bit = True,\n",
    "    bnb_4bit_compute_dtype=torch.bfloat16\n",
    ")\n",
    "\n",
    "tokenizer = AutoTokenizer.from_pretrained(BASE_MODEL_NAME, padding_side=\"left\")\n",
    "tokenizer.pad_token = tokenizer.eos_token"
   ]
  },
  {
   "cell_type": "code",
   "execution_count": 6,
   "metadata": {
    "executionInfo": {
     "elapsed": 10,
     "status": "ok",
     "timestamp": 1690036580820,
     "user": {
      "displayName": "Tariq Jamil",
      "userId": "14932491825632509938"
     },
     "user_tz": -300
    },
    "id": "snowaAwFdYfg"
   },
   "outputs": [],
   "source": [
    "peft_model_id = 'TariqJamil/falcon-7b-peft-qlora-finetuned-0704-instruct'"
   ]
  },
  {
   "cell_type": "code",
   "execution_count": 7,
   "metadata": {
    "colab": {
     "base_uri": "https://localhost:8080/",
     "height": 575,
     "referenced_widgets": [
      "4e3952e70e3b4dbc91d0cf8f629f473d",
      "5c95e584cc95412b9f21ea35b61c61d4",
      "141c4efb886e485680fe9503e946b4fa",
      "7e321c94169c42d39f6ae9832e672190",
      "d75e5fb762fb486cb63c22dc93ec6035",
      "f6472d21dbbf4c659b3e6e67fc7caf31",
      "9b1af85262f64f7bb3282823129ce68b",
      "4bfe83012f4f4f0f8bf4bd42808e521c",
      "37477bd6f5be4b0bbdaa593a92fb72cb",
      "c3993dbc41e745f797257a3565f0c80c",
      "74a9905df22e4fba892c3e00037a2ccc",
      "d4311915be64420f96290b072cfd5278",
      "a7b1b81ea09d41539f69d86cdad43977",
      "54bf471435a74e44bc27daf814bfa584",
      "c0f8f906a9b041bd83507ad02c114be1",
      "8c1cd21650984c8e9b0dfab8e1ba917d",
      "457c12f593914b48aaeeb5d39df719f4",
      "16cd827392694a7cb7f26213d6095284",
      "8422275b43be4cad9439e95501ade4dd",
      "f36413ad6e4b4764923bcaad31fcecb8",
      "03b52c8f779b44399d1f259d0fa810fb",
      "be1b447599814f20902f057f63f1e9f2",
      "e83b9c7d99504c51bd0c61255299f0b0",
      "a3d104dd2e7c4267b7748a0f2c85c4b8",
      "84ec11e871314927a8591b682d7e234b",
      "09be46fc282241feb6bf5b5259ee8dfc",
      "8271ef8bc1424accaf39825f9d0b8843",
      "a92ee19da9124079af6300dc2cf0e0f7",
      "5446d6e5e9134b5e88054506a07815d1",
      "4fa0d9f6e91644b4bc71ff2a2927ed6d",
      "969389afc43e432f93bcb6a4bddbe962",
      "6ee2898f017a4808825d9166476d7685",
      "2041964c3760418699b146e769564530",
      "0438d46d8a3e47e7a91744d1425b64cd",
      "46d4e05929b94072983fa705c1ef43fa",
      "17ceb25697554f5a9d1dbbf37f327631",
      "c980e67a8db547df99420688bdb83d6b",
      "1523a1e109ca4330a81d730f27b2f85b",
      "da50ce9c05cb48a8a404ea2eebba03a9",
      "5c43cf9a092244c4b6f61f901580d70f",
      "9c620723806b4d2aa973d767042f1dea",
      "f54ce4826721462cb630c63d5c4185cd",
      "5521f49f5f1b423ea776576e428e31a4",
      "fe435682bd674ee3a3341c01d641d3ee",
      "e5e86851797e4934ab62d1d29c91bebd",
      "21e0ed00c26f426fa890e8820007ae23",
      "3216828c35cd41b2a9c00a5f76d50cdb",
      "5beae3496ef34c4598f3c7b0cac260e4",
      "64687fd12eca4e828b48adf416a9aabc",
      "ab3a8f2fb64f499f941849461f69149a",
      "bf4b83cb580f4d5b83608bf870c32114",
      "ae1170bab92549bf87a6279c5f5d67a4",
      "15c95e00aca746f180326320b91d9bfb",
      "3ad92bbbf13447c6b21c5f42bcfb97a4",
      "c2aa2dd10dbd4db2ac27035d331057ea",
      "2eb2931577904e6c9b94f3dbf7c76483",
      "d8eb7f10f4f24f7bacaea9eb714080aa",
      "5da800b6836243e38aa0bb2d091d166e",
      "e8b9492dabce46649377ad566b2ef39d",
      "e1585fac5deb4ae69710e531739c5999",
      "a3b8cccfc71d4abf9ea9720b94912baa",
      "a407a00e74104fc6900dde0a3f0210da",
      "bcda24c10b954015bba565b88ab6e64f",
      "bee006bf4f0e435aa1c37e5e835fb9a7",
      "689fe9940ccf4e348c27a4bccf67dcbc",
      "8f65b4d499234085bd46910c534685d0",
      "d3d3b5dc35424867ab83de0533c81a97",
      "a2bc9309e0e94eb6b6c763f0bc35038e",
      "8e70c3b0148948e8bca42b5f11081d07",
      "557ffeef7fa24c1bbeb6bd753411403d",
      "de1aa8e9c43342509c6a4d74d1e54bad",
      "7966e80b8e37457da8849cf0a1ebe5f7",
      "e7fdbd2308aa4efc86c8477842b7f6d3",
      "be6fb519632a4a53a39697b58a225808",
      "7f5ed9d1609746eb8106a812c87b5fc2",
      "007c23bde68d44348330d3a4e594badd",
      "e55071cb69cc45fc8d6d91e1242607d8",
      "9283be106f1c4215bd1498a8e59e6ca4",
      "5c3b115b40a84da989a22a8d3a718d3a",
      "24024e394b08464e95e56026d6ac186b",
      "b46ac6058f654dcaa33c62390b254bd7",
      "0c6232e237b346ce8d74203fa48ffaea",
      "315639c32bda43b8ab3e6c5b9034bd99",
      "fe53068d63614624b293a2f79865213a",
      "6492087041b04bd798f008afab3555f1",
      "a9b07009d3e647afa42cf744c38c7200",
      "2077db5ac2ee4262af902dd9e1254c25",
      "e35ecb012759440786ca9f4e8e7cc7b5",
      "da3cb6893ca64520a3df52999c4a7edc",
      "2d906f7eff334cc791462dc8c728d165",
      "fc2dcd6704b94e9da180ef2df1d779fa",
      "98b61ee6400e46abb4a3663dae486b0c",
      "cf92cfa6438842fe95ca6f04de9d4637",
      "9c34caa8c6264f9aa5abc80ff2010790",
      "c9a759f44c2b41b8bd9a79d54d547bc4",
      "be0ebeae43174429bf722375d9c426f8",
      "174a6322daad4a628797323242ee1000",
      "5c38cdd6661d4d8183fc5e2426fd85ba",
      "f735edc4ebc24f76896f1d94416582de",
      "bd09b52d27e2408681122656ffed349f",
      "856a17778bb848f68815c8dc9848e7f2",
      "7f3f3f008d0e4fefa71516adb55b7d3e",
      "f9a019697d8a479e811d6a8341d708c1",
      "ab880e507e884c7d867b18bfefcd22d8",
      "bd14bac4275a40d2807be340a681e2c6",
      "989801f9a9834000b4a4780c1426567b",
      "17f69ceaf1bf481c88ac0d7f76a9e46d",
      "5a84c3664bd341608404cff0a37c5875",
      "3139ecdffbc144febf7c805ecb33b74c",
      "01ad094b5f344f6f880a226abb5021d1",
      "67ddf40e77a640628305511aeb1a9dfb",
      "ce9094d9f323458e838d7d88dbbfa050",
      "eb9ab2dada9d4617a7ab7aa92ce0a707",
      "752a847406c641bcbb92dcb37b126fd0",
      "83ff93d483454309a3d65854d6d7d799",
      "36916c5ce0c04aa5b4b0ec67c58219ac",
      "32081276fe904e2199f2811f2b40f293",
      "13815cb7762a40a6817cd87438dbc19e",
      "7bd9d4b169f94d22b18d89b8c4ec005f",
      "60206b7706954bc3ac0be02bfcab5015",
      "95de52d307654dfea3edef90119003d0",
      "72352e48dad34cdd895b9ad4520228a4",
      "9263e6435a944ca09dc4501a18e18897",
      "8a0636438edc435a9858790528b58a5f",
      "9bdde5727fb24da6a506ac02c706134f",
      "78e47918e19d4f9ba66460d81ba7b8a1",
      "6807fb6e7ee54dcb971b92464e9c0f56",
      "90806717d5dc498d82a6be1eaaf89ef8",
      "2e99ea83d3b34073ad448b3aabdf017d",
      "1b65b97f2a4b421985d9916987a27ca4",
      "5597f2c10a9e4d08b92aab8d1f56829a",
      "1e47519a6e3742138ff3397c4f06c436",
      "173573d438a8418bb32074a6ec113330",
      "dd6b451a6e564306a44224d521dfc137",
      "e6f54f6168ec416799360fe682c0d83e",
      "ba9e994d58a84b7f86c51034488622ad",
      "dc582b4c92984b918a03ab2446710dcc",
      "ee6004e3c9054f73b0d7bc1fd2b7f1d2",
      "90a74ea921324d4ba7624395f5e9f668",
      "3fed093c16104ca6b34be54d410b0f24",
      "3a9d7e78a13441c28640a55a4c9d6e6d",
      "7e9e41ac3ce845aea0da11c7d6f6ea4d",
      "b1af143a9a574f339e87025f6e87fdee",
      "7875af4c85534e449ed1dbfd7cf29849",
      "7196fc7d280a4f07a7632c9b4c70f9db",
      "4fa6ef743d8e455e9fc6d1aa67816c01",
      "2816133d85dc422289ce5b4d22a3b777",
      "43cb7f6d27374134a974e1f7d4b73038",
      "d5cfdd9c1f7240938aa8b5503e2b9876",
      "cd725d7f49f74453a67718d19b2708a0",
      "0957fc00b17847129d9c4759d54c8100",
      "7791ab85dac74731867270120dde40a7",
      "88168f0454694bccac832a4e57f3515a",
      "bfb05d889dbd43319c3ada8ff141cf5f"
     ]
    },
    "executionInfo": {
     "elapsed": 184064,
     "status": "ok",
     "timestamp": 1690036768922,
     "user": {
      "displayName": "Tariq Jamil",
      "userId": "14932491825632509938"
     },
     "user_tz": -300
    },
    "id": "hsD1VKqeA62Z",
    "outputId": "70dd45b4-532d-4bdc-86ea-aef62bb47489"
   },
   "outputs": [
    {
     "data": {
      "application/vnd.jupyter.widget-view+json": {
       "model_id": "4e3952e70e3b4dbc91d0cf8f629f473d",
       "version_major": 2,
       "version_minor": 0
      },
      "text/plain": [
       "Downloading (…)/adapter_config.json:   0%|          | 0.00/419 [00:00<?, ?B/s]"
      ]
     },
     "metadata": {},
     "output_type": "display_data"
    },
    {
     "data": {
      "application/vnd.jupyter.widget-view+json": {
       "model_id": "d4311915be64420f96290b072cfd5278",
       "version_major": 2,
       "version_minor": 0
      },
      "text/plain": [
       "Downloading (…)lve/main/config.json:   0%|          | 0.00/667 [00:00<?, ?B/s]"
      ]
     },
     "metadata": {},
     "output_type": "display_data"
    },
    {
     "data": {
      "application/vnd.jupyter.widget-view+json": {
       "model_id": "e83b9c7d99504c51bd0c61255299f0b0",
       "version_major": 2,
       "version_minor": 0
      },
      "text/plain": [
       "Downloading (…)/configuration_RW.py:   0%|          | 0.00/2.61k [00:00<?, ?B/s]"
      ]
     },
     "metadata": {},
     "output_type": "display_data"
    },
    {
     "name": "stderr",
     "output_type": "stream",
     "text": [
      "A new version of the following files was downloaded from https://huggingface.co/tiiuae/falcon-7b-instruct:\n",
      "- configuration_RW.py\n",
      ". Make sure to double-check they do not contain any added malicious code. To avoid downloading new versions of the code file, you can pin a revision.\n"
     ]
    },
    {
     "data": {
      "application/vnd.jupyter.widget-view+json": {
       "model_id": "0438d46d8a3e47e7a91744d1425b64cd",
       "version_major": 2,
       "version_minor": 0
      },
      "text/plain": [
       "Downloading (…)main/modelling_RW.py:   0%|          | 0.00/47.5k [00:00<?, ?B/s]"
      ]
     },
     "metadata": {},
     "output_type": "display_data"
    },
    {
     "name": "stderr",
     "output_type": "stream",
     "text": [
      "A new version of the following files was downloaded from https://huggingface.co/tiiuae/falcon-7b-instruct:\n",
      "- modelling_RW.py\n",
      ". Make sure to double-check they do not contain any added malicious code. To avoid downloading new versions of the code file, you can pin a revision.\n"
     ]
    },
    {
     "data": {
      "application/vnd.jupyter.widget-view+json": {
       "model_id": "e5e86851797e4934ab62d1d29c91bebd",
       "version_major": 2,
       "version_minor": 0
      },
      "text/plain": [
       "Downloading (…)model.bin.index.json:   0%|          | 0.00/16.9k [00:00<?, ?B/s]"
      ]
     },
     "metadata": {},
     "output_type": "display_data"
    },
    {
     "data": {
      "application/vnd.jupyter.widget-view+json": {
       "model_id": "2eb2931577904e6c9b94f3dbf7c76483",
       "version_major": 2,
       "version_minor": 0
      },
      "text/plain": [
       "Downloading shards:   0%|          | 0/2 [00:00<?, ?it/s]"
      ]
     },
     "metadata": {},
     "output_type": "display_data"
    },
    {
     "data": {
      "application/vnd.jupyter.widget-view+json": {
       "model_id": "d3d3b5dc35424867ab83de0533c81a97",
       "version_major": 2,
       "version_minor": 0
      },
      "text/plain": [
       "Downloading (…)l-00001-of-00002.bin:   0%|          | 0.00/9.95G [00:00<?, ?B/s]"
      ]
     },
     "metadata": {},
     "output_type": "display_data"
    },
    {
     "data": {
      "application/vnd.jupyter.widget-view+json": {
       "model_id": "9283be106f1c4215bd1498a8e59e6ca4",
       "version_major": 2,
       "version_minor": 0
      },
      "text/plain": [
       "Downloading (…)l-00002-of-00002.bin:   0%|          | 0.00/4.48G [00:00<?, ?B/s]"
      ]
     },
     "metadata": {},
     "output_type": "display_data"
    },
    {
     "data": {
      "application/vnd.jupyter.widget-view+json": {
       "model_id": "da3cb6893ca64520a3df52999c4a7edc",
       "version_major": 2,
       "version_minor": 0
      },
      "text/plain": [
       "Loading checkpoint shards:   0%|          | 0/2 [00:00<?, ?it/s]"
      ]
     },
     "metadata": {},
     "output_type": "display_data"
    },
    {
     "data": {
      "application/vnd.jupyter.widget-view+json": {
       "model_id": "bd09b52d27e2408681122656ffed349f",
       "version_major": 2,
       "version_minor": 0
      },
      "text/plain": [
       "Downloading (…)neration_config.json:   0%|          | 0.00/111 [00:00<?, ?B/s]"
      ]
     },
     "metadata": {},
     "output_type": "display_data"
    },
    {
     "data": {
      "application/vnd.jupyter.widget-view+json": {
       "model_id": "67ddf40e77a640628305511aeb1a9dfb",
       "version_major": 2,
       "version_minor": 0
      },
      "text/plain": [
       "Downloading (…)okenizer_config.json:   0%|          | 0.00/220 [00:00<?, ?B/s]"
      ]
     },
     "metadata": {},
     "output_type": "display_data"
    },
    {
     "data": {
      "application/vnd.jupyter.widget-view+json": {
       "model_id": "72352e48dad34cdd895b9ad4520228a4",
       "version_major": 2,
       "version_minor": 0
      },
      "text/plain": [
       "Downloading (…)/main/tokenizer.json:   0%|          | 0.00/2.73M [00:00<?, ?B/s]"
      ]
     },
     "metadata": {},
     "output_type": "display_data"
    },
    {
     "data": {
      "application/vnd.jupyter.widget-view+json": {
       "model_id": "173573d438a8418bb32074a6ec113330",
       "version_major": 2,
       "version_minor": 0
      },
      "text/plain": [
       "Downloading (…)cial_tokens_map.json:   0%|          | 0.00/281 [00:00<?, ?B/s]"
      ]
     },
     "metadata": {},
     "output_type": "display_data"
    },
    {
     "data": {
      "application/vnd.jupyter.widget-view+json": {
       "model_id": "7875af4c85534e449ed1dbfd7cf29849",
       "version_major": 2,
       "version_minor": 0
      },
      "text/plain": [
       "Downloading adapter_model.bin:   0%|          | 0.00/18.9M [00:00<?, ?B/s]"
      ]
     },
     "metadata": {},
     "output_type": "display_data"
    }
   ],
   "source": [
    "dtype = torch.bfloat16 if torch.cuda.get_device_capability()[0] == 8 else torch.float16\n",
    "\n",
    "config = PeftConfig.from_pretrained(peft_model_id)\n",
    "\n",
    "model = AutoModelForCausalLM.from_pretrained(\n",
    "    config.base_model_name_or_path,\n",
    "    return_dict=True,\n",
    "    device_map='auto',\n",
    "    trust_remote_code=True,\n",
    "    #load_in_8bit = True,\n",
    "    torch_dtype=dtype,\n",
    ")\n",
    "\n",
    "tokenizer = AutoTokenizer.from_pretrained(config.base_model_name_or_path, padding_side=\"left\")\n",
    "tokenizer.pad_token = tokenizer.eos_token\n",
    "\n",
    "# Load the PeftModel\n",
    "model = PeftModel.from_pretrained(model_id = peft_model_id, model = model)"
   ]
  },
  {
   "cell_type": "markdown",
   "metadata": {
    "id": "HYQkwZ8yWzVI"
   },
   "source": [
    "## Merging Adapter with Model to form exclusive model"
   ]
  },
  {
   "cell_type": "code",
   "execution_count": 8,
   "metadata": {
    "executionInfo": {
     "elapsed": 8261,
     "status": "ok",
     "timestamp": 1690036881464,
     "user": {
      "displayName": "Tariq Jamil",
      "userId": "14932491825632509938"
     },
     "user_tz": -300
    },
    "id": "cnR5OGbcHL0h"
   },
   "outputs": [],
   "source": [
    "model = model.merge_and_unload()"
   ]
  },
  {
   "cell_type": "code",
   "execution_count": 9,
   "metadata": {
    "colab": {
     "base_uri": "https://localhost:8080/",
     "height": 145,
     "referenced_widgets": [
      "eb84978a42ab431b9244b28fa1155cd1",
      "5c1297f2d2784c7086f9398ceec34352",
      "3f473e588c49420eb1bdfca7eaf6f5fa",
      "15ccf908bd334b6cacb9f93b388d4279",
      "b3925379f692459c9f4948efa7555bc2",
      "1401bba75304489c821579a9c8e53a21",
      "3d876286cfac4b84b058e58220af52cf",
      "0510f78d863b4f5fb9742d5e2e1b2820",
      "017e5775b9aa40bca3ae184a3f1285f2",
      "0f9d4fec4d5e4ba3aba226132c98b096",
      "6bd7acabd2774438a743f415c3609cad",
      "bb362e0f1a9643b38126d07ed3cd2ac8",
      "ae3b3a1f200342b690ed0f76fcf72bf3",
      "87d5fb15c39a40f69cb8439a50eb42d1",
      "e903752ff72b409d9a04db8a8e253cab",
      "a7bad2a076fe41db841fa3423b4dbf1c",
      "119a3301decc4e69b2862317909072fb",
      "4f2a8bb918ca4630bc1459f69d0aa3a4",
      "cab9eb2ea9074a2ba72f28eb28d51ead",
      "e545e2109b434778abe7c2f1f0ed11ef",
      "b7b7928dfc3e4dedb23f3dea0d8e0644",
      "cb1b46764ba04cc2887edea05fbe941c",
      "4719389881e74487bd66b510e29277b8",
      "d73dc729277e4181b9b35806c5e8bc9c",
      "540a23fcdcc54d898e7a1d2c0febdcbe",
      "89f4b377cd354c02ae12c9697ea5ce1a",
      "9fe7e04318c84b4d89256cb9bcc13c9e",
      "cb85089906224decab124972f9e5890c",
      "eef44f4fb8b140188d416b86d1859757",
      "8e8131dbcae64a19bc6bd29c8cf00483",
      "977dc798ed074e309f2c0d82248c42ab",
      "8efbe6d2a5ee4488bd2600b17512a82e"
     ]
    },
    "executionInfo": {
     "elapsed": 6,
     "status": "ok",
     "timestamp": 1690036881464,
     "user": {
      "displayName": "Tariq Jamil",
      "userId": "14932491825632509938"
     },
     "user_tz": -300
    },
    "id": "yJkfaauQHeRZ",
    "outputId": "a7b19411-2f56-4a3c-bc0b-c3647dd9ceb3"
   },
   "outputs": [
    {
     "data": {
      "application/vnd.jupyter.widget-view+json": {
       "model_id": "eb84978a42ab431b9244b28fa1155cd1",
       "version_major": 2,
       "version_minor": 0
      },
      "text/plain": [
       "VBox(children=(HTML(value='<center> <img\\nsrc=https://huggingface.co/front/assets/huggingface_logo-noborder.sv…"
      ]
     },
     "metadata": {},
     "output_type": "display_data"
    }
   ],
   "source": [
    "from huggingface_hub import notebook_login\n",
    "\n",
    "notebook_login()"
   ]
  },
  {
   "cell_type": "code",
   "execution_count": 11,
   "metadata": {
    "colab": {
     "base_uri": "https://localhost:8080/"
    },
    "executionInfo": {
     "elapsed": 9,
     "status": "ok",
     "timestamp": 1690036910046,
     "user": {
      "displayName": "Tariq Jamil",
      "userId": "14932491825632509938"
     },
     "user_tz": -300
    },
    "id": "NoRTxoYXHfHJ",
    "outputId": "dc64d11d-1ff8-40c2-ba72-d202177edf1e"
   },
   "outputs": [
    {
     "name": "stdout",
     "output_type": "stream",
     "text": [
      "TariqJamil/falcon-7b-peft-qlora-finetuned-0704-instruct-r1\n"
     ]
    }
   ],
   "source": [
    "MODEL_ID = peft_model_id + '-r1'  # destinatio n merged model name\n",
    "print(MODEL_ID)"
   ]
  },
  {
   "cell_type": "code",
   "execution_count": 12,
   "metadata": {
    "colab": {
     "base_uri": "https://localhost:8080/",
     "height": 150,
     "referenced_widgets": [
      "c46deb696fa340cb939d87bf68406521",
      "1dd76444873f40c1aa749d8b482f6da7",
      "1e2feeaebe114a01907ddc940c62f5f8",
      "8e7e64fc235a43eaa2a3f1e3241dbfda",
      "ef978800d4a445c8a55c8fb78e3709f3",
      "7f001e07429c4de5bd722c2d47b3ba44",
      "e03b98b32da14f52937fa21d0d792450",
      "212c38ca9e41402abcbf79b8ad12e637",
      "7a7355aca9284f97ad4efcbc1668162d",
      "93fef0ad8fa0411880569c36b0745b61",
      "ee1e3101c2a24a6d8faa0793d0ce39c9",
      "c4d80ea298924d0b95a22dfb120920a5",
      "ee7e8e9e1eef4a898e29e1e3d9ec4ee9",
      "608ab47f476947268305b5420f40b5d8",
      "6a5051d587864a6cb10d6132e9a263b0",
      "f82cd585931c4c61964c480b57bf5b2c",
      "167946d220af4fcd826cb5e1c9899fbe",
      "29811afc43794291a6f19f71bccdced4",
      "b292373efb0f4690a798213285777fcf",
      "7a8edd3f3c694e25aa16f03a5ff8c3c6",
      "90c3eae41ff649dda90f41f99dc85593",
      "4b2166067a114059aadaeb3fac108ac8",
      "58db901e5f634a57b7a6c9fe87662a5c",
      "1e7f6e89202a462ca6575682d418299b",
      "6c273679080e43a495d6bf89f346d09a",
      "e75051d652a9408894ccd720e8e6f4b3",
      "4a31fb531d6843b4ac050172782023fc",
      "4b9ecdf5656940c389dd31474f1a0ac9",
      "5a7f6ed1de774d01b813255c7a1cad7b",
      "b839c2252dd649e1856c9bc5aa927a9e",
      "ff3e793793394ff095513b4809bab0b4",
      "243a7f9b678246e18146a7bfa0df8817",
      "e134c8e18fab40caa47b9665f193b526"
     ]
    },
    "executionInfo": {
     "elapsed": 1043056,
     "status": "ok",
     "timestamp": 1690037955418,
     "user": {
      "displayName": "Tariq Jamil",
      "userId": "14932491825632509938"
     },
     "user_tz": -300
    },
    "id": "1c13DIDxH94T",
    "outputId": "8d74d225-7d21-45ff-a9fc-4ae24cf2bc63"
   },
   "outputs": [
    {
     "data": {
      "application/vnd.jupyter.widget-view+json": {
       "model_id": "c46deb696fa340cb939d87bf68406521",
       "version_major": 2,
       "version_minor": 0
      },
      "text/plain": [
       "pytorch_model-00002-of-00002.bin:   0%|          | 0.00/3.89G [00:00<?, ?B/s]"
      ]
     },
     "metadata": {},
     "output_type": "display_data"
    },
    {
     "data": {
      "application/vnd.jupyter.widget-view+json": {
       "model_id": "c4d80ea298924d0b95a22dfb120920a5",
       "version_major": 2,
       "version_minor": 0
      },
      "text/plain": [
       "Upload 2 LFS files:   0%|          | 0/2 [00:00<?, ?it/s]"
      ]
     },
     "metadata": {},
     "output_type": "display_data"
    },
    {
     "data": {
      "application/vnd.jupyter.widget-view+json": {
       "model_id": "58db901e5f634a57b7a6c9fe87662a5c",
       "version_major": 2,
       "version_minor": 0
      },
      "text/plain": [
       "pytorch_model-00001-of-00002.bin:   0%|          | 0.00/9.95G [00:00<?, ?B/s]"
      ]
     },
     "metadata": {},
     "output_type": "display_data"
    },
    {
     "data": {
      "text/plain": [
       "CommitInfo(commit_url='https://huggingface.co/TariqJamil/falcon-7b-peft-qlora-finetuned-0704-instruct-r1/commit/157debc595eb281d9722d1b4c74cb3d13b5f56a5', commit_message='Upload RWForCausalLM', commit_description='', oid='157debc595eb281d9722d1b4c74cb3d13b5f56a5', pr_url=None, pr_revision=None, pr_num=None)"
      ]
     },
     "execution_count": 12,
     "metadata": {},
     "output_type": "execute_result"
    }
   ],
   "source": [
    "model.push_to_hub(MODEL_ID, use_auth_token=True)"
   ]
  },
  {
   "cell_type": "code",
   "execution_count": 13,
   "metadata": {
    "colab": {
     "base_uri": "https://localhost:8080/"
    },
    "executionInfo": {
     "elapsed": 3246,
     "status": "ok",
     "timestamp": 1690037958661,
     "user": {
      "displayName": "Tariq Jamil",
      "userId": "14932491825632509938"
     },
     "user_tz": -300
    },
    "id": "6pxUIW1OOelf",
    "outputId": "7355c6ba-c42a-4674-d748-0ff187ccaabe"
   },
   "outputs": [
    {
     "data": {
      "text/plain": [
       "CommitInfo(commit_url='https://huggingface.co/TariqJamil/falcon-7b-peft-qlora-finetuned-0704-instruct-r1/commit/36c65591b0c116d0725628ec123027b488e218ea', commit_message='Upload tokenizer', commit_description='', oid='36c65591b0c116d0725628ec123027b488e218ea', pr_url=None, pr_revision=None, pr_num=None)"
      ]
     },
     "execution_count": 13,
     "metadata": {},
     "output_type": "execute_result"
    }
   ],
   "source": [
    "tokenizer.push_to_hub(MODEL_ID, use_auth_token=True)"
   ]
  },
  {
   "cell_type": "code",
   "execution_count": 14,
   "metadata": {
    "colab": {
     "base_uri": "https://localhost:8080/"
    },
    "executionInfo": {
     "elapsed": 1536,
     "status": "ok",
     "timestamp": 1690037960194,
     "user": {
      "displayName": "Tariq Jamil",
      "userId": "14932491825632509938"
     },
     "user_tz": -300
    },
    "id": "uS6Kqvh6Oqg8",
    "outputId": "54d227b0-b6cd-481a-87c3-e471a6513e1b"
   },
   "outputs": [
    {
     "data": {
      "text/plain": [
       "CommitInfo(commit_url='https://huggingface.co/TariqJamil/falcon-7b-peft-qlora-finetuned-0704-instruct-r1/commit/8fdc152433ba9a89b286f2316a1670b1538e7b94', commit_message='Upload config', commit_description='', oid='8fdc152433ba9a89b286f2316a1670b1538e7b94', pr_url=None, pr_revision=None, pr_num=None)"
      ]
     },
     "execution_count": 14,
     "metadata": {},
     "output_type": "execute_result"
    }
   ],
   "source": [
    "config.push_to_hub(MODEL_ID, use_auth_token=True)"
   ]
  },
  {
   "cell_type": "code",
   "execution_count": null,
   "metadata": {
    "id": "9u42Wf2hDMkg"
   },
   "outputs": [],
   "source": []
  }
 ],
 "metadata": {
  "accelerator": "GPU",
  "colab": {
   "machine_shape": "hm",
   "provenance": []
  },
  "kernelspec": {
   "display_name": "Python 3 (ipykernel)",
   "language": "python",
   "name": "python3"
  },
  "language_info": {
   "codemirror_mode": {
    "name": "ipython",
    "version": 3
   },
   "file_extension": ".py",
   "mimetype": "text/x-python",
   "name": "python",
   "nbconvert_exporter": "python",
   "pygments_lexer": "ipython3",
   "version": "3.8.17"
  },
  "vscode": {
   "interpreter": {
    "hash": "6c4e21ff5edce2fb2cfe7eb854551da92c6ec05cac2504057bb7aba62f43a5ec"
   }
  },
  "widgets": {
   "application/vnd.jupyter.widget-state+json": {
    "state": {},
    "version_major": 2,
    "version_minor": 0
   }
  }
 },
 "nbformat": 4,
 "nbformat_minor": 4
}
